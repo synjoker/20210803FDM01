{
 "cells": [
  {
   "cell_type": "code",
   "execution_count": 1,
   "metadata": {},
   "outputs": [
    {
     "name": "stderr",
     "output_type": "stream",
     "text": [
      "usage: ipykernel_launcher.py [-h] [--degree DEGREE] [--GD GD]\n",
      "                             [--nrefine NREFINE] [--maxit MAXIT]\n",
      "ipykernel_launcher.py: error: unrecognized arguments: --ip=127.0.0.1 --stdin=9008 --control=9006 --hb=9005 --Session.signature_scheme=\"hmac-sha256\" --Session.key=b\"06ee413a-72ee-41d6-b70f-91b2e070ef18\" --shell=9007 --transport=\"tcp\" --iopub=9009 --f=c:\\Users\\18120\\AppData\\Roaming\\jupyter\\runtime\\kernel-v2-30016VBFuD4r6ry2G.json\n"
     ]
    },
    {
     "ename": "SystemExit",
     "evalue": "2",
     "output_type": "error",
     "traceback": [
      "An exception has occurred, use %tb to see the full traceback.\n",
      "\u001b[1;31mSystemExit\u001b[0m\u001b[1;31m:\u001b[0m 2\n"
     ]
    },
    {
     "name": "stderr",
     "output_type": "stream",
     "text": [
      "C:\\Users\\18120\\AppData\\Roaming\\Python\\Python38\\site-packages\\IPython\\core\\interactiveshell.py:3468: UserWarning: To exit: use 'exit', 'quit', or Ctrl-D.\n",
      "  warn(\"To exit: use 'exit', 'quit', or Ctrl-D.\", stacklevel=1)\n"
     ]
    }
   ],
   "source": [
    "#!/usr/bin/env python3\n",
    "# \n",
    "\n",
    "import argparse\n",
    "import numpy as np\n",
    "from scipy.sparse.linalg import spsolve\n",
    "import matplotlib.pyplot as plt\n",
    "\n",
    "from fealpy.functionspace import LagrangeFiniteElementSpace\n",
    "from fealpy.boundarycondition import NeumannBC \n",
    "from fealpy.tools.show import showmultirate\n",
    "from fealpy.tools.show import show_error_table\n",
    "\n",
    "## 参数解析\n",
    "parser = argparse.ArgumentParser(description=\n",
    "        \"\"\"\n",
    "        单纯形网格（三角形、四面体）网格上任意次有限元方法求解 Poisson 方程\n",
    "        边界条件为纯 Neumann 条件\n",
    "        \"\"\")\n",
    "\n",
    "parser.add_argument('--degree',\n",
    "        default=1, type=int,\n",
    "        help='Lagrange 有限元空间的次数, 默认为 1 次.')\n",
    "\n",
    "parser.add_argument('--GD',\n",
    "        default=2, type=int,\n",
    "        help='模型问题的维数, 默认求解 2 维问题.')\n",
    "\n",
    "parser.add_argument('--nrefine',\n",
    "        default=4, type=int,\n",
    "        help='初始网格加密的次数, 默认初始加密 4 次.')\n",
    "\n",
    "parser.add_argument('--maxit',\n",
    "        default=4, type=int,\n",
    "        help='默认网格加密求解的次数, 默认加密求解 4 次')\n",
    "\n",
    "args = parser.parse_args()\n",
    "\n",
    "degree = args.degree\n",
    "GD = args.GD\n",
    "nrefine = args.nrefine\n",
    "maxit = args.maxit\n",
    "\n",
    "if GD == 2:\n",
    "    from fealpy.pde.poisson_2d import CosCosData as PDE\n",
    "elif GD == 3:\n",
    "    from fealpy.pde.poisson_3d import CosCosCosData as PDE\n",
    "\n",
    "pde = PDE()\n",
    "mesh = pde.init_mesh(n=nrefine)\n",
    "\n",
    "errorType = ['$|| u - u_h||_{\\Omega,0}$',\n",
    "             '$||\\\\nabla u - \\\\nabla u_h||_{\\Omega, 0}$'\n",
    "             ]\n",
    "errorMatrix = np.zeros((2, maxit), dtype=np.float64)\n",
    "NDof = np.zeros(maxit, dtype=np.float64)\n",
    "\n",
    "for i in range(maxit):\n",
    "    space = LagrangeFiniteElementSpace(mesh, p=degree)\n",
    "    NDof[i] = space.number_of_global_dofs()\n",
    "\n",
    "    uh = space.function()\n",
    "    A = space.stiff_matrix()\n",
    "    F = space.source_vector(pde.source)\n",
    "    bc = NeumannBC(space, pde.neumann) \n",
    "\n",
    "    # Here is the case for pure Neumann bc, we also need modify A\n",
    "    A, F = bc.apply(F, A=A) \n",
    "    uh[:] = spsolve(A, F)[:-1] # we add a addtional dof\n",
    "\n",
    "    errorMatrix[0, i] = space.integralalg.error(pde.solution, uh)\n",
    "    errorMatrix[1, i] = space.integralalg.error(pde.gradient, uh.grad_value)\n",
    "\n",
    "    if i < maxit-1:\n",
    "        mesh.uniform_refine()\n",
    "\n",
    "\n",
    "if GD == 2:\n",
    "    uh.add_plot(plt, cmap='rainbow')\n",
    "elif GD == 3:\n",
    "    print('The 3d function plot is not been implemented!')\n",
    "\n",
    "showmultirate(plt, 0, NDof, errorMatrix,  errorType, propsize=20)\n",
    "show_error_table(NDof, errorType, errorMatrix)\n",
    "\n",
    "plt.show()\n"
   ]
  },
  {
   "cell_type": "code",
   "execution_count": 11,
   "metadata": {},
   "outputs": [
    {
     "name": "stdout",
     "output_type": "stream",
     "text": [
      "run boxmesh2d with time: 0.006972700000005716\n",
      "run serial_construct_matrix with time: 0.056880499999920175\n"
     ]
    },
    {
     "ename": "AttributeError",
     "evalue": "'function' object has no attribute 'coordtype'",
     "output_type": "error",
     "traceback": [
      "\u001b[1;31m---------------------------------------------------------------------------\u001b[0m",
      "\u001b[1;31mAttributeError\u001b[0m                            Traceback (most recent call last)",
      "Cell \u001b[1;32mIn[11], line 18\u001b[0m\n\u001b[0;32m     16\u001b[0m uh \u001b[39m=\u001b[39m space\u001b[39m.\u001b[39mfunction() \u001b[39m# 创建有限元函数对象\u001b[39;00m\n\u001b[0;32m     17\u001b[0m A \u001b[39m=\u001b[39m space\u001b[39m.\u001b[39mstiff_matrix() \u001b[39m# 组装刚度矩阵对象\u001b[39;00m\n\u001b[1;32m---> 18\u001b[0m F \u001b[39m=\u001b[39m space\u001b[39m.\u001b[39;49msource_vector(pde\u001b[39m.\u001b[39;49msource) \u001b[39m# 组装右端向量对象\u001b[39;00m\n\u001b[0;32m     19\u001b[0m A, F \u001b[39m=\u001b[39m bc\u001b[39m.\u001b[39mapply(A, F, uh) \u001b[39m# 应用 Dirichlet 边界条件\u001b[39;00m\n\u001b[0;32m     21\u001b[0m \u001b[39m# 导入稀疏线性代数系统求解函数\u001b[39;00m\n",
      "File \u001b[1;32mc:\\Users\\18120\\AppData\\Local\\Programs\\Python\\Python38\\lib\\site-packages\\fealpy\\functionspace\\LagrangeFiniteElementSpace.py:971\u001b[0m, in \u001b[0;36mLagrangeFiniteElementSpace.source_vector\u001b[1;34m(self, f, dim, q)\u001b[0m\n\u001b[0;32m    968\u001b[0m cellmeasure \u001b[39m=\u001b[39m \u001b[39mself\u001b[39m\u001b[39m.\u001b[39mcellmeasure\n\u001b[0;32m    969\u001b[0m bcs, ws \u001b[39m=\u001b[39m \u001b[39mself\u001b[39m\u001b[39m.\u001b[39mintegrator\u001b[39m.\u001b[39mget_quadrature_points_and_weights()\n\u001b[1;32m--> 971\u001b[0m \u001b[39mif\u001b[39;00m f\u001b[39m.\u001b[39;49mcoordtype \u001b[39m==\u001b[39m \u001b[39m'\u001b[39m\u001b[39mcartesian\u001b[39m\u001b[39m'\u001b[39m:\n\u001b[0;32m    972\u001b[0m     pp \u001b[39m=\u001b[39m \u001b[39mself\u001b[39m\u001b[39m.\u001b[39mmesh\u001b[39m.\u001b[39mbc_to_point(bcs)\n\u001b[0;32m    973\u001b[0m     fval \u001b[39m=\u001b[39m f(pp)\n",
      "\u001b[1;31mAttributeError\u001b[0m: 'function' object has no attribute 'coordtype'"
     ]
    }
   ],
   "source": [
    "from fealpy.pde.poisson_2d import CosCosData # 导入二维 Poisson 模型实例\n",
    "pde = X2Y2Data() # 创建 pde 模型对象\n",
    "\n",
    "from fealpy.mesh import MeshFactory as MF # 导入网格工厂模块\n",
    "domain = [0, 2, 0, 2]\n",
    "mesh = MF.boxmesh2d(domain, nx=50, ny=50, meshtype='tri')\n",
    "\n",
    "# 导入 Lagrange 有限元空间\n",
    "from fealpy.functionspace import LagrangeFiniteElementSpace \n",
    "space = LagrangeFiniteElementSpace(mesh, p=1)  # 线性元空间\n",
    "\n",
    "# 导入 Dirichlet 边界处理\n",
    "from fealpy.boundarycondition import DirichletBC \n",
    "bc = DirichletBC(space, pde.dirichlet) # 创建 Dirichlet 边界条件处理对象\n",
    "\n",
    "uh = space.function() # 创建有限元函数对象\n",
    "A = space.stiff_matrix() # 组装刚度矩阵对象\n",
    "F = space.source_vector(pde.source) # 组装右端向量对象\n",
    "A, F = bc.apply(A, F, uh) # 应用 Dirichlet 边界条件\n",
    "\n",
    "# 导入稀疏线性代数系统求解函数\n",
    "from scipy.sparse.linalg import spsolve\n",
    "uh[:] = spsolve(A, F)\n",
    "\n",
    "L2Error = space.integralalg.error(pde.solution, uh)\n",
    "H1Error = space.integralalg.error(pde.gradient, uh.grad_value)\n",
    "\n",
    "import matplotlib.pyplot as plt\n",
    "from mpl_toolkits.mplot3d import Axes3D\n",
    "fig = plt.figure()\n",
    "axes = fig.add_subplot(1, 2, 1, projection='3d')\n",
    "uh.add_plot(axes, cmap='rainbow')\n",
    "axes = fig.add_subplot(1, 2, 2)\n",
    "mesh.add_plot(axes)"
   ]
  }
 ],
 "metadata": {
  "kernelspec": {
   "display_name": "Python 3",
   "language": "python",
   "name": "python3"
  },
  "language_info": {
   "codemirror_mode": {
    "name": "ipython",
    "version": 3
   },
   "file_extension": ".py",
   "mimetype": "text/x-python",
   "name": "python",
   "nbconvert_exporter": "python",
   "pygments_lexer": "ipython3",
   "version": "3.8.6"
  },
  "orig_nbformat": 4
 },
 "nbformat": 4,
 "nbformat_minor": 2
}
